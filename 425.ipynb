{
 "cells": [
  {
   "cell_type": "markdown",
   "metadata": {},
   "source": [
    "# Module 4: Deep Learning\n",
    "\n",
    "## Sprint 2: Natural Language Processing\n",
    "\n",
    "## Toxic comment challenge"
   ]
  },
  {
   "cell_type": "markdown",
   "metadata": {},
   "source": [
    "## Background\n"
   ]
  },
  {
   "cell_type": "markdown",
   "metadata": {},
   "source": [
    "The time has come again to put together all we learned in the previous lessons and try to tackle a real-life issue.\n",
    "\n",
    "In this project, we will try to put ourselves into the shoes of content moderators. Every online platform which has an open forum faces an issue of people posting inappropriate comments, which if uncontrolled, can lead to loss of users, reputation and revenue. However, it is impractical and expensive for humans to keep track of all the messages other people post. Luckily, ML is here to help. We can train a model to automatically analyze all the messages users write and flag toxic users/comments so that appropriate actions can be taken.\n",
    "\n",
    "\n",
    "We will use Kaggle toxic comment dataset https://www.kaggle.com/c/jigsaw-toxic-comment-classification-challenge\n",
    "\n",
    "Your task today is to build a **multi-label** classifier, to assign forum posts to one or more of the 6 classes.\n"
   ]
  },
  {
   "cell_type": "markdown",
   "metadata": {},
   "source": [
    "---"
   ]
  },
  {
   "cell_type": "markdown",
   "metadata": {},
   "source": [
    "## Multi-label classification"
   ]
  },
  {
   "cell_type": "markdown",
   "metadata": {},
   "source": [
    "Up until now all, of the classification exercises we have seen were *multi-class* (e.g. dog, cat, plane) or binary (e.g. yes/no). Both methods are used when there is only 1 right answer, e.g. an animal cannot be both a dog and a plane. In *multi-label* classification, each input can result in many possible answers, e.g. articles could have a mixture of tags: news, sports, politics."
   ]
  },
  {
   "cell_type": "markdown",
   "metadata": {},
   "source": [
    "<div style=\"text-align:center\">\n",
    "<div><img style=\"width:600px\" src=\"https://i0.wp.com/theailearner.com/wp-content/uploads/2019/07/multilabel.png?fit=625%2C339&ssl=1\"></img><div>\n",
    "<div style=\"margin-bottom:20px; color:rgb(117, 117, 117);font-size:12px;\">Source: https://theailearner.com/2019/07/15/multi-label-classification/</div>\n",
    "</div>"
   ]
  },
  {
   "cell_type": "markdown",
   "metadata": {},
   "source": [
    "So what are the implications for the neural network, that you are going to build? \n",
    "1. You cannot use softmax any more, since it makes a probability distribution over all of the classes. This time we need each output to have its own and independent probability. A good way to do it is to apply a Sigmoid activation to the output layer, which will squash your output between 0 and 1, thus you can treat the output as a probability to a sample belonging to a class\n",
    "2. We need to change our loss function. Cross-entropy loss is used for multi-class problems, so you will have to change it to Binary Cross-entropy since we want each output considered individually.\n",
    "3. Your labels will now have to be 1-hot-encoded. Since each output can have various labels, it is a good way to represent it. So a label, that belongs to class 1 and 4 out of possible 5, will be represented as `[0, 1, 0, 0, 1, 0]`. You can use sklearn [one-hot-encoder](https://scikit-learn.org/stable/modules/generated/sklearn.preprocessing.OneHotEncoder.html) to easily convert your labels\n",
    "4. When using model outputs (e.g. predictions in prod, evaluation), you will need to threshold the output. Why? Consider how a multi-label output with sigmoid activation from your model will look. For a 5 label problem, it will be a vector with 5 values, each from 0 to 1, e.g. `[0.01, 0.99, 0.68, 0.89, 0.32]`. How do you convert this into yes/no for each label? By applying a threshold of some value, such as 0.5. Meaning if the probability is less than 50%, we say it does not belong to this class. If more than 50% then it does, which will convert the above output to `[0, 1, 1, 1, 0]`"
   ]
  },
  {
   "cell_type": "markdown",
   "metadata": {},
   "source": [
    "You can use HuggingFace transformers library and adapt a *\\{TRANSFORMER\\}*ForSequenceClassification method. I recommend using [DistilBERT](https://huggingface.co/transformers/model_doc/distilbert.html#distilbertforsequenceclassification) or [RoBERTa](https://huggingface.co/transformers/model_doc/roberta.html#robertaforsequenceclassification). You will have to make sure you don't pass labels to the classifier and calculate it yourself in the model."
   ]
  },
  {
   "cell_type": "markdown",
   "metadata": {},
   "source": [
    "## EDA"
   ]
  },
  {
   "cell_type": "markdown",
   "metadata": {},
   "source": [
    "Since your time is very limited and the task is not trivial, do not spend time doing extensive EDA. It is a very important step in every project and you will have to do some, in order to understand how many classes you have, what the text data looks like, potentially the class distribution. But avoid spending more than an hour on this, since you want to leave the maximum time for building a model and preprocessing data."
   ]
  },
  {
   "cell_type": "markdown",
   "metadata": {},
   "source": [
    "## Concepts to explore\n",
    "- Multi-label classification\n",
    "- Binary cross-entropy loss"
   ]
  },
  {
   "cell_type": "markdown",
   "metadata": {},
   "source": [
    "## Requirements\n",
    "\n",
    "- EDA\n",
    "- Preprocess your data correctly, including converting labels to one-hot-encoding\n",
    "- Split data into train/validation/test sets\n",
    "- Visualize model performance\n",
    "- Ensure your work has written conclusions and insights about \n",
    "    - Main details about the data\n",
    "    - Model considerations and implementation\n",
    "    - Results\n",
    "    - Recommendations for improvements"
   ]
  },
  {
   "cell_type": "markdown",
   "metadata": {},
   "source": [
    "## Evaluation criteria\n",
    "\n",
    "When solving this problem, ensure that you plan your time carefully. The most important part is to show your NLP and deep learning knowledge. Meaning, ensure you build a model with correct output, loss, and activations as well as do the correct data preprocessing pipeline (e.g. text tokenization, one-hot-encoding of labels). Model performance \n",
    "\n",
    "- Correctly preprocessed labels\n",
    "- Correctly built model\n",
    "- End-to-end trainable model\n",
    "- Model performance\n",
    "- Code quality"
   ]
  },
  {
   "cell_type": "markdown",
   "metadata": {},
   "source": [
    "## Bonus challenges\n",
    "\n",
    "- Add class weights to BCE loss. To calculate those weights refer to [here](https://scikit-learn.org/stable/modules/generated/sklearn.utils.class_weight.compute_sample_weight.html)\n",
    "- Use tanh activation for the output layer and compare results with sigmoid. Note, you will have to change your data preprocessing pipeline since tanh has a different activation range. Investigate what it is and adapt your solution."
   ]
  },
  {
   "cell_type": "markdown",
   "metadata": {},
   "source": [
    "\n",
    "## Sample correction questions\n",
    "\n",
    "During a correction, you may get asked questions that test your understanding of covered topics.\n",
    "\n",
    "- What is tokenization in NLP context and why is it important?\n",
    "- What is attention mechanism in transformers and what are its main advantage(s)\n",
    "- What are the differences between GPT and BERT transformers\n",
    "- Explain in a high level - how does a character-based generative model work?"
   ]
  },
  {
   "cell_type": "code",
   "execution_count": 49,
   "metadata": {},
   "outputs": [
    {
     "name": "stderr",
     "output_type": "stream",
     "text": [
      "\n",
      "  | Name       | Type                                | Params\n",
      "-------------------------------------------------------------------\n",
      "0 | classifier | DistilBertForSequenceClassification | 66 M  \n",
      "1 | criterion  | BCEWithLogitsLoss                   | 0     \n"
     ]
    },
    {
     "data": {
      "application/vnd.jupyter.widget-view+json": {
       "model_id": "",
       "version_major": 2,
       "version_minor": 0
      },
      "text/plain": [
       "HBox(children=(FloatProgress(value=1.0, bar_style='info', description='Validation sanity check', layout=Layout…"
      ]
     },
     "metadata": {},
     "output_type": "display_data"
    },
    {
     "data": {
      "application/vnd.jupyter.widget-view+json": {
       "model_id": "a862569c27bf49cb8cbab4217ed825c1",
       "version_major": 2,
       "version_minor": 0
      },
      "text/plain": [
       "HBox(children=(FloatProgress(value=1.0, bar_style='info', description='Training', layout=Layout(flex='2'), max…"
      ]
     },
     "metadata": {},
     "output_type": "display_data"
    },
    {
     "name": "stdout",
     "output_type": "stream",
     "text": [
      "\n"
     ]
    },
    {
     "data": {
      "text/plain": [
       "1"
      ]
     },
     "execution_count": 49,
     "metadata": {},
     "output_type": "execute_result"
    }
   ],
   "source": [
    "trainer.fit(model)"
   ]
  },
  {
   "cell_type": "code",
   "execution_count": null,
   "metadata": {},
   "outputs": [],
   "source": []
  }
 ],
 "metadata": {
  "kernelspec": {
   "display_name": "Python 3",
   "language": "python",
   "name": "python3"
  },
  "language_info": {
   "codemirror_mode": {
    "name": "ipython",
    "version": 3
   },
   "file_extension": ".py",
   "mimetype": "text/x-python",
   "name": "python",
   "nbconvert_exporter": "python",
   "pygments_lexer": "ipython3",
   "version": "3.8.5"
  }
 },
 "nbformat": 4,
 "nbformat_minor": 4
}
